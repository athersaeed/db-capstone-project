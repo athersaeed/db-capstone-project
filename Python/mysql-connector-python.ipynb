{
 "cells": [
  {
   "cell_type": "code",
   "execution_count": 1,
   "id": "d704c295-c343-4397-80a9-2a10b50fc938",
   "metadata": {},
   "outputs": [
    {
     "name": "stdout",
     "output_type": "stream",
     "text": [
      "Requirement already satisfied: mysql-connector-python in c:\\users\\ather\\appdata\\local\\programs\\python\\python312\\lib\\site-packages (8.4.0)\n"
     ]
    },
    {
     "name": "stderr",
     "output_type": "stream",
     "text": [
      "\n",
      "[notice] A new release of pip is available: 24.0 -> 24.1.1\n",
      "[notice] To update, run: python.exe -m pip install --upgrade pip\n"
     ]
    }
   ],
   "source": [
    "!pip install mysql-connector-python"
   ]
  },
  {
   "cell_type": "code",
   "execution_count": 2,
   "id": "c000c52d-589b-4e5b-92f8-7bfa9111baf5",
   "metadata": {},
   "outputs": [],
   "source": [
    "import mysql.connector as connector"
   ]
  },
  {
   "cell_type": "code",
   "execution_count": 6,
   "id": "62f0ba46-a2d9-4af0-b823-a6fa103d3b2c",
   "metadata": {},
   "outputs": [],
   "source": [
    "try:\n",
    "    connection=connector.connect(\n",
    "        user=\"db_project_user\",\n",
    "        password=\"Obviously47!\",\n",
    "        host=\"127.0.0.1\",\n",
    "        auth_plugin='mysql_native_password')\n",
    "\n",
    "except connector.Error as er:\n",
    "    print(\"Error code:\", er.errno)\n",
    "    print(\"Error message:\", er.msg)"
   ]
  },
  {
   "cell_type": "code",
   "execution_count": 8,
   "id": "ce99d6ca-3f74-42e5-b64a-9b1ee78101a7",
   "metadata": {},
   "outputs": [],
   "source": [
    "cursor = connection.cursor(buffered=True)"
   ]
  },
  {
   "cell_type": "code",
   "execution_count": 9,
   "id": "f06bdd7d-6c8b-4af3-8753-8ce0ba08669a",
   "metadata": {},
   "outputs": [],
   "source": [
    "cursor.execute(\"use littlelemondm\")"
   ]
  },
  {
   "cell_type": "code",
   "execution_count": 23,
   "id": "e33fcc66-1e12-400e-9e80-21485bf57166",
   "metadata": {},
   "outputs": [],
   "source": [
    "try:\n",
    "    show_tables_query = \"select * from menus\" \n",
    "    cursor.execute(show_tables_query)\n",
    "except connector.Error as er:\n",
    "    print(\"Error code:\", er.errno)\n",
    "    print(\"Error message:\", er.msg)"
   ]
  },
  {
   "cell_type": "code",
   "execution_count": 24,
   "id": "44238bce-b867-4375-96c2-b4e44b9a16d7",
   "metadata": {},
   "outputs": [
    {
     "name": "stdout",
     "output_type": "stream",
     "text": [
      "(1, 'Italian', 'Vegan', 'Menu 1')\n",
      "(2, 'Chinese', 'Vegetarian', 'Menu 2')\n",
      "(3, 'Mexican', 'Vegetarian', 'Menu 3')\n",
      "(4, 'Chinese', 'Vegetarian', 'Menu 4')\n",
      "(5, 'Indian', 'Vegan', 'Menu 5')\n",
      "(6, 'Indian', 'Vegetarian', 'Menu 6')\n",
      "(7, 'Indian', 'Vegetarian', 'Menu 7')\n",
      "(8, 'Mexican', 'Non-Vegan', 'Menu 8')\n",
      "(9, 'Italian', 'Vegan', 'Menu 9')\n",
      "(10, 'Indian', 'Vegan', 'Menu 10')\n"
     ]
    }
   ],
   "source": [
    "results = cursor.fetchall()\n",
    "for res in results:\n",
    "    print(res)"
   ]
  },
  {
   "cell_type": "code",
   "execution_count": 28,
   "id": "cde5e494-13aa-4ce5-97ff-583ee94e6b8d",
   "metadata": {},
   "outputs": [],
   "source": [
    "join_query = \"\"\"\n",
    "SELECT customers.CustomerName, Customers.PhoneNumber, orders.OrderCost\n",
    "FROM customers INNER JOIN orders\n",
    "ON customers.CustomerID = orders.CustomerID WHERE OrderCost >= 60;\"\"\"\n",
    "try:\n",
    "    cursor.execute(join_query)\n",
    "except connector.Error as er:\n",
    "    print(\"Error code:\", er.errno)\n",
    "    print(\"Error message:\", er.msg)"
   ]
  },
  {
   "cell_type": "code",
   "execution_count": 29,
   "id": "af2dc7c0-79f7-46e7-afee-ef74c2270f63",
   "metadata": {},
   "outputs": [
    {
     "name": "stdout",
     "output_type": "stream",
     "text": [
      "('Customer 1', 1248519589, Decimal('69.03'))\n",
      "('Customer 10', 5740309931, Decimal('62.13'))\n",
      "('Customer 4', 1970460516, Decimal('93.31'))\n",
      "('Customer 3', 2038388680, Decimal('85.98'))\n",
      "('Customer 3', 2038388680, Decimal('79.18'))\n"
     ]
    }
   ],
   "source": [
    "resjoin = cursor.fetchall()\n",
    "for res in resjoin:\n",
    "    print(res)"
   ]
  },
  {
   "cell_type": "code",
   "execution_count": null,
   "id": "58265629-e085-4e0b-8d5a-664818df9e68",
   "metadata": {},
   "outputs": [],
   "source": []
  }
 ],
 "metadata": {
  "kernelspec": {
   "display_name": "Python 3 (ipykernel)",
   "language": "python",
   "name": "python3"
  },
  "language_info": {
   "codemirror_mode": {
    "name": "ipython",
    "version": 3
   },
   "file_extension": ".py",
   "mimetype": "text/x-python",
   "name": "python",
   "nbconvert_exporter": "python",
   "pygments_lexer": "ipython3",
   "version": "3.12.3"
  }
 },
 "nbformat": 4,
 "nbformat_minor": 5
}
